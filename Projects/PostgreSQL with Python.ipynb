{
 "cells": [
  {
   "cell_type": "code",
   "execution_count": 1,
   "id": "287a0e53",
   "metadata": {},
   "outputs": [],
   "source": [
    "import psycopg2 as pg2"
   ]
  },
  {
   "cell_type": "code",
   "execution_count": null,
   "id": "a7efc3f4",
   "metadata": {},
   "outputs": [],
   "source": [
    "password ='dont tell ya'"
   ]
  },
  {
   "cell_type": "code",
   "execution_count": 2,
   "id": "6644d669",
   "metadata": {},
   "outputs": [],
   "source": [
    "conn = pg2.connect(database='dvdrental',user='postgres',password=password)"
   ]
  },
  {
   "cell_type": "code",
   "execution_count": 20,
   "id": "196d3936",
   "metadata": {},
   "outputs": [],
   "source": [
    "cur = conn.cursor()"
   ]
  },
  {
   "cell_type": "code",
   "execution_count": 21,
   "id": "55b809ab",
   "metadata": {},
   "outputs": [],
   "source": [
    "cur.execute('SELECT * FROM payment')"
   ]
  },
  {
   "cell_type": "code",
   "execution_count": 22,
   "id": "4dc218c7",
   "metadata": {},
   "outputs": [
    {
     "data": {
      "text/plain": [
       "(17503,\n",
       " 341,\n",
       " 2,\n",
       " 1520,\n",
       " Decimal('7.99'),\n",
       " datetime.datetime(2007, 2, 15, 22, 25, 46, 996577))"
      ]
     },
     "execution_count": 22,
     "metadata": {},
     "output_type": "execute_result"
    }
   ],
   "source": [
    "cur.fetchone()"
   ]
  },
  {
   "cell_type": "code",
   "execution_count": 9,
   "id": "2b696173",
   "metadata": {},
   "outputs": [],
   "source": [
    "#cur.fetchmany(5)"
   ]
  },
  {
   "cell_type": "code",
   "execution_count": 14,
   "id": "b59701f1",
   "metadata": {},
   "outputs": [],
   "source": [
    "#cur.fetchall()"
   ]
  },
  {
   "cell_type": "code",
   "execution_count": 23,
   "id": "c29052fc",
   "metadata": {},
   "outputs": [],
   "source": [
    "data = cur.fetchmany(10)"
   ]
  },
  {
   "cell_type": "code",
   "execution_count": 26,
   "id": "0a3723b1",
   "metadata": {},
   "outputs": [
    {
     "data": {
      "text/plain": [
       "(17504,\n",
       " 341,\n",
       " 1,\n",
       " 1778,\n",
       " Decimal('1.99'),\n",
       " datetime.datetime(2007, 2, 16, 17, 23, 14, 996577))"
      ]
     },
     "execution_count": 26,
     "metadata": {},
     "output_type": "execute_result"
    }
   ],
   "source": [
    "data[0]"
   ]
  },
  {
   "cell_type": "code",
   "execution_count": 27,
   "id": "23910a62",
   "metadata": {},
   "outputs": [],
   "source": [
    "conn.close()"
   ]
  },
  {
   "cell_type": "code",
   "execution_count": null,
   "id": "8d6cd77b",
   "metadata": {},
   "outputs": [],
   "source": []
  }
 ],
 "metadata": {
  "kernelspec": {
   "display_name": "Python 3 (ipykernel)",
   "language": "python",
   "name": "python3"
  },
  "language_info": {
   "codemirror_mode": {
    "name": "ipython",
    "version": 3
   },
   "file_extension": ".py",
   "mimetype": "text/x-python",
   "name": "python",
   "nbconvert_exporter": "python",
   "pygments_lexer": "ipython3",
   "version": "3.8.12"
  }
 },
 "nbformat": 4,
 "nbformat_minor": 5
}
